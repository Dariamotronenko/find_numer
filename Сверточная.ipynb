{
  "nbformat": 4,
  "nbformat_minor": 0,
  "metadata": {
    "colab": {
      "provenance": [],
      "authorship_tag": "ABX9TyO5/i3So63ejBIWM/NaQ0qU",
      "include_colab_link": true
    },
    "kernelspec": {
      "name": "python3",
      "display_name": "Python 3"
    },
    "language_info": {
      "name": "python"
    }
  },
  "cells": [
    {
      "cell_type": "markdown",
      "metadata": {
        "id": "view-in-github",
        "colab_type": "text"
      },
      "source": [
        "<a href=\"https://colab.research.google.com/github/Dariamotronenko/find_numer/blob/main/%D0%A1%D0%B2%D0%B5%D1%80%D1%82%D0%BE%D1%87%D0%BD%D0%B0%D1%8F.ipynb\" target=\"_parent\"><img src=\"https://colab.research.google.com/assets/colab-badge.svg\" alt=\"Open In Colab\"/></a>"
      ]
    },
    {
      "cell_type": "code",
      "source": [
        "import numpy as np\n",
        "import matplotlib.pyplot as plt\n",
        "from tensorflow.keras.datasets import mnist\n",
        "\n",
        "# Загрузка набора данных MNIST\n",
        "(x_train, y_train), (x_test, y_test) = mnist.load_data()\n",
        "\n",
        "# Нормализация изображений\n",
        "x_train = x_train.astype('float32') / 255\n",
        "x_train = np.reshape(x_train, (x_train.shape[0], -1))\n",
        "y_train = np.eye(10)[y_train]\n",
        "\n",
        "# Инициализация весов и смещений\n",
        "weight_input_to_hidden = np.random.uniform(-0.5, 0.5, (20, 784))\n",
        "weight_hidden_to_output = np.random.uniform(-0.5, 0.5, (10, 20))\n",
        "\n",
        "bias_input_to_hidden = np.zeros((20, 1))\n",
        "bias_hidden_to_output = np.zeros((10, 1))\n",
        "print('инициализания прошла успешно!')"
      ],
      "metadata": {
        "colab": {
          "base_uri": "https://localhost:8080/"
        },
        "id": "Qq0ULlkt9cMb",
        "outputId": "4dab72be-d3c0-4802-e037-3df438798726"
      },
      "execution_count": 7,
      "outputs": [
        {
          "output_type": "stream",
          "name": "stdout",
          "text": [
            "инициализания прошла успешно!\n"
          ]
        }
      ]
    },
    {
      "cell_type": "code",
      "source": [
        "epochs = 3\n",
        "learning_rate = 0.01\n",
        "\n",
        "for epoch in range(epochs):\n",
        "    e_loss = 0\n",
        "    e_correct = 0\n",
        "    print(f'Epoch №{epoch}')\n",
        "\n",
        "    for image, label in zip(x_train, y_train):\n",
        "        image = np.reshape(image, (-1, 1))\n",
        "        label = np.reshape(label, (-1, 1))\n",
        "\n",
        "        # Прямой проход (Forward pass)\n",
        "        hidden_raw = bias_input_to_hidden + weight_input_to_hidden @ image\n",
        "        hidden = 1 / (1 + np.exp(-hidden_raw)) # Функция активации\n",
        "\n",
        "        output_raw = bias_hidden_to_output + weight_hidden_to_output @ hidden\n",
        "        output = 1 / (1 + np.exp(-output_raw)) # Функция активации\n",
        "\n",
        "        # Считаем потери и точность\n",
        "        e_loss += np.sum((output - label) ** 2)\n",
        "        e_correct += int(np.argmax(output) == np.argmax(label))\n",
        "\n",
        "        # Обратное распространение (Backpropagation)\n",
        "        delta_output = output - label\n",
        "        weight_hidden_to_output -= learning_rate * delta_output @ hidden.T\n",
        "        bias_hidden_to_output -= learning_rate * delta_output\n",
        "\n",
        "        delta_hidden = weight_hidden_to_output.T @ delta_output * (hidden * (1 - hidden))\n",
        "        weight_input_to_hidden -= learning_rate * delta_hidden @ image.T\n",
        "        bias_input_to_hidden -= learning_rate * delta_hidden\n",
        "\n",
        "    print(f'Loss: {e_loss/len(x_train)}, Accuracy: {e_correct/len(x_train)}')\n",
        "\n",
        "print(\"Обучение завершено.\")"
      ],
      "metadata": {
        "colab": {
          "base_uri": "https://localhost:8080/"
        },
        "id": "XJbLScJY9mQ9",
        "outputId": "0de42899-2672-4dbd-ccad-ede6591ed05b"
      },
      "execution_count": 8,
      "outputs": [
        {
          "output_type": "stream",
          "name": "stdout",
          "text": [
            "Epoch №0\n",
            "Loss: 0.24405287973395218, Accuracy: 0.8591833333333333\n",
            "Epoch №1\n",
            "Loss: 0.12910888565962986, Accuracy: 0.9232\n",
            "Epoch №2\n",
            "Loss: 0.11222587442085794, Accuracy: 0.9332166666666667\n",
            "Обучение завершено.\n"
          ]
        }
      ]
    },
    {
      "cell_type": "code",
      "source": [
        "#ПРОВЕРЯЕМ\n",
        "import random\n",
        "test_image = random.choice(images)\n",
        "\n",
        "image = np.reshape(test_image, (-1, 1))\n",
        "\n",
        "hidden_raw = bias_input_to_hidden + weight_input_to_hidden @ image\n",
        "hidden = 1 / (1 + np.exp(-hidden_raw))  # функция активации\n",
        "\n",
        "output_raw = bias_hidden_to_output + weight_hidden_to_output @ hidden\n",
        "output = 1 / (1 + np.exp(-output_raw))  # функция активации\n",
        "\n",
        "plt.imshow(test_image.reshape(28, 28), cmap='Greys')\n",
        "plt.title(f'NN suggests the number is: {output.argmax()}')\n",
        "plt.show()"
      ],
      "metadata": {
        "colab": {
          "base_uri": "https://localhost:8080/",
          "height": 452
        },
        "id": "HhDnkyem93Jc",
        "outputId": "840a8d9a-4136-46a8-ea5d-ab3efc49fffa"
      },
      "execution_count": 13,
      "outputs": [
        {
          "output_type": "display_data",
          "data": {
            "text/plain": [
              "<Figure size 640x480 with 1 Axes>"
            ],
            "image/png": "[encoded data removed]"
          },
          "metadata": {}
        }
      ]
    }
  ]
}